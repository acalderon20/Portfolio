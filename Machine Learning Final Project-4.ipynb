{
 "cells": [
  {
   "cell_type": "markdown",
   "metadata": {},
   "source": [
    "# Analyze NFL Stats\n",
    "\n",
    "Adolfo F. Calderon \\\n",
    "DS 315: Machine Learning \\\n",
    "11/26/2022"
   ]
  },
  {
   "cell_type": "markdown",
   "metadata": {},
   "source": [
    "## Setup and inspection"
   ]
  },
  {
   "cell_type": "code",
   "execution_count": 1,
   "metadata": {},
   "outputs": [],
   "source": [
    "import numpy as np\n",
    "import pandas as pd\n",
    "from sklearn.linear_model import LogisticRegression\n",
    "from sklearn.preprocessing import StandardScaler\n",
    "from sklearn.model_selection import train_test_split\n",
    "from sklearn.metrics import accuracy_score\n",
    "import matplotlib.pyplot as plt\n",
    "import seaborn as sns\n",
    "%matplotlib inline"
   ]
  },
  {
   "cell_type": "markdown",
   "metadata": {},
   "source": [
    "### 1. Load the dataset\n",
    "\n",
    "After loading all the necessary libraries, the next step is to load the dataset. \\\n",
    "Data Source https://www.pro-football-reference.com\n",
    "\n",
    "The dataset `season_2021.csv` is saved as `nfl`."
   ]
  },
  {
   "cell_type": "markdown",
   "metadata": {},
   "source": [
    "<details>\n",
    "    <summary style=\"display:list-item;\"><b>Overview of the variables in the dataset.</b></summary>\n",
    "\n",
    "* `symbol`: team name abbreviation\n",
    "* `team_name`: team name\n",
    "* `result`: whether this team won (`W`), lost (`L`), or tied (`T`) for this game\n",
    "* `1stD_offense`: First down conversions by the team's offense\n",
    "* `TotYd_offense`: Total yards gained by the team's offense\n",
    "* `PassY_offense`: Total passing yards gained by the team's offense\n",
    "* `RushY_offense`: Total rushing yards gained by the team's offense\n",
    "* `TO_offense`: Turnovers committed by the team's offense\n",
    "* `1stD_defense`: First down conversions allowed by the team's defense\n",
    "* `TotYd_defense`: Total yards allowed by the team's defense\n",
    "* `PassY_defense`: Total passing yards allowed by the team's defense\n",
    "* `RushY_defense`: Total rushing yards allowed by the team's defense\n",
    "* `TO_defense`: Turnovers in favor of the defensive team\n",
    "\n",
    "</details>"
   ]
  },
  {
   "cell_type": "code",
   "execution_count": 2,
   "metadata": {},
   "outputs": [
    {
     "data": {
      "text/html": [
       "<div>\n",
       "<style scoped>\n",
       "    .dataframe tbody tr th:only-of-type {\n",
       "        vertical-align: middle;\n",
       "    }\n",
       "\n",
       "    .dataframe tbody tr th {\n",
       "        vertical-align: top;\n",
       "    }\n",
       "\n",
       "    .dataframe thead th {\n",
       "        text-align: right;\n",
       "    }\n",
       "</style>\n",
       "<table border=\"1\" class=\"dataframe\">\n",
       "  <thead>\n",
       "    <tr style=\"text-align: right;\">\n",
       "      <th></th>\n",
       "      <th>team_name</th>\n",
       "      <th>week</th>\n",
       "      <th>day</th>\n",
       "      <th>date</th>\n",
       "      <th>result</th>\n",
       "      <th>opponent</th>\n",
       "      <th>tm_score</th>\n",
       "      <th>opp_score</th>\n",
       "      <th>1stD_offense</th>\n",
       "      <th>TotYd_offense</th>\n",
       "      <th>PassY_offense</th>\n",
       "      <th>RushY_offense</th>\n",
       "      <th>TO_offense</th>\n",
       "      <th>1stD_defense</th>\n",
       "      <th>TotYd_defense</th>\n",
       "      <th>PassY_defense</th>\n",
       "      <th>RushY_defense</th>\n",
       "      <th>TO_defense</th>\n",
       "    </tr>\n",
       "  </thead>\n",
       "  <tbody>\n",
       "    <tr>\n",
       "      <th>0</th>\n",
       "      <td>Arizona Cardinals</td>\n",
       "      <td>1</td>\n",
       "      <td>Sun</td>\n",
       "      <td>September 12</td>\n",
       "      <td>W</td>\n",
       "      <td>Tennessee Titans</td>\n",
       "      <td>38</td>\n",
       "      <td>13</td>\n",
       "      <td>22</td>\n",
       "      <td>416</td>\n",
       "      <td>280</td>\n",
       "      <td>136</td>\n",
       "      <td>1</td>\n",
       "      <td>17</td>\n",
       "      <td>248</td>\n",
       "      <td>162</td>\n",
       "      <td>86</td>\n",
       "      <td>3</td>\n",
       "    </tr>\n",
       "    <tr>\n",
       "      <th>1</th>\n",
       "      <td>Arizona Cardinals</td>\n",
       "      <td>2</td>\n",
       "      <td>Sun</td>\n",
       "      <td>September 19</td>\n",
       "      <td>W</td>\n",
       "      <td>Minnesota Vikings</td>\n",
       "      <td>34</td>\n",
       "      <td>33</td>\n",
       "      <td>21</td>\n",
       "      <td>474</td>\n",
       "      <td>371</td>\n",
       "      <td>103</td>\n",
       "      <td>2</td>\n",
       "      <td>22</td>\n",
       "      <td>419</td>\n",
       "      <td>242</td>\n",
       "      <td>177</td>\n",
       "      <td>0</td>\n",
       "    </tr>\n",
       "    <tr>\n",
       "      <th>2</th>\n",
       "      <td>Arizona Cardinals</td>\n",
       "      <td>3</td>\n",
       "      <td>Sun</td>\n",
       "      <td>September 26</td>\n",
       "      <td>W</td>\n",
       "      <td>Jacksonville Jaguars</td>\n",
       "      <td>31</td>\n",
       "      <td>19</td>\n",
       "      <td>23</td>\n",
       "      <td>407</td>\n",
       "      <td>316</td>\n",
       "      <td>91</td>\n",
       "      <td>1</td>\n",
       "      <td>20</td>\n",
       "      <td>361</td>\n",
       "      <td>202</td>\n",
       "      <td>159</td>\n",
       "      <td>4</td>\n",
       "    </tr>\n",
       "    <tr>\n",
       "      <th>3</th>\n",
       "      <td>Arizona Cardinals</td>\n",
       "      <td>4</td>\n",
       "      <td>Sun</td>\n",
       "      <td>October 3</td>\n",
       "      <td>W</td>\n",
       "      <td>Los Angeles Rams</td>\n",
       "      <td>37</td>\n",
       "      <td>20</td>\n",
       "      <td>27</td>\n",
       "      <td>465</td>\n",
       "      <td>249</td>\n",
       "      <td>216</td>\n",
       "      <td>0</td>\n",
       "      <td>24</td>\n",
       "      <td>401</td>\n",
       "      <td>280</td>\n",
       "      <td>121</td>\n",
       "      <td>2</td>\n",
       "    </tr>\n",
       "    <tr>\n",
       "      <th>4</th>\n",
       "      <td>Arizona Cardinals</td>\n",
       "      <td>5</td>\n",
       "      <td>Sun</td>\n",
       "      <td>October 10</td>\n",
       "      <td>W</td>\n",
       "      <td>San Francisco 49ers</td>\n",
       "      <td>17</td>\n",
       "      <td>10</td>\n",
       "      <td>20</td>\n",
       "      <td>304</td>\n",
       "      <td>210</td>\n",
       "      <td>94</td>\n",
       "      <td>1</td>\n",
       "      <td>19</td>\n",
       "      <td>338</td>\n",
       "      <td>186</td>\n",
       "      <td>152</td>\n",
       "      <td>1</td>\n",
       "    </tr>\n",
       "  </tbody>\n",
       "</table>\n",
       "</div>"
      ],
      "text/plain": [
       "           team_name week  day          date result              opponent  \\\n",
       "0  Arizona Cardinals    1  Sun  September 12      W      Tennessee Titans   \n",
       "1  Arizona Cardinals    2  Sun  September 19      W     Minnesota Vikings   \n",
       "2  Arizona Cardinals    3  Sun  September 26      W  Jacksonville Jaguars   \n",
       "3  Arizona Cardinals    4  Sun     October 3      W      Los Angeles Rams   \n",
       "4  Arizona Cardinals    5  Sun    October 10      W   San Francisco 49ers   \n",
       "\n",
       "   tm_score  opp_score  1stD_offense  TotYd_offense  PassY_offense  \\\n",
       "0        38         13            22            416            280   \n",
       "1        34         33            21            474            371   \n",
       "2        31         19            23            407            316   \n",
       "3        37         20            27            465            249   \n",
       "4        17         10            20            304            210   \n",
       "\n",
       "   RushY_offense  TO_offense  1stD_defense  TotYd_defense  PassY_defense  \\\n",
       "0            136           1            17            248            162   \n",
       "1            103           2            22            419            242   \n",
       "2             91           1            20            361            202   \n",
       "3            216           0            24            401            280   \n",
       "4             94           1            19            338            186   \n",
       "\n",
       "   RushY_defense  TO_defense  \n",
       "0             86           3  \n",
       "1            177           0  \n",
       "2            159           4  \n",
       "3            121           2  \n",
       "4            152           1  "
      ]
     },
     "execution_count": 2,
     "metadata": {},
     "output_type": "execute_result"
    }
   ],
   "source": [
    "# load dataset\n",
    "nfl = pd.read_csv('season_2021.csv')\n",
    "\n",
    "# inspect first few rows\n",
    "nfl.head()"
   ]
  },
  {
   "cell_type": "markdown",
   "metadata": {},
   "source": [
    "### 2. Summarize outcomes\n",
    "\n",
    "Next, we examine our outcome variable to find out how wins and losses are recorded by checking the counts of each value of the `result` variable."
   ]
  },
  {
   "cell_type": "code",
   "execution_count": 3,
   "metadata": {},
   "outputs": [
    {
     "data": {
      "text/plain": [
       "L    284\n",
       "W    284\n",
       "T      2\n",
       "Name: result, dtype: int64"
      ]
     },
     "execution_count": 3,
     "metadata": {},
     "output_type": "execute_result"
    }
   ],
   "source": [
    "# check result value counts\n",
    "nfl.result.value_counts()"
   ]
  },
  {
   "cell_type": "markdown",
   "metadata": {},
   "source": [
    "### 3. Encode the result labels\n",
    "\n",
    "There are two problems with the `result` variable:\n",
    "* The `T` group is very small, which can lead to issues with our model's performance.\n",
    "* Our regression algorithm requires numeric values as the outcome, but by default it's coded with letters.\n",
    "\n",
    "We can solve both of these issues in one step, we'll group the tie with the losses and convert to 1 for wins and 0 for ties and losses. "
   ]
  },
  {
   "cell_type": "code",
   "execution_count": 4,
   "metadata": {},
   "outputs": [
    {
     "name": "stdout",
     "output_type": "stream",
     "text": [
      "0    286\n",
      "1    284\n",
      "Name: result, dtype: int64\n"
     ]
    }
   ],
   "source": [
    "# nested dictionary to encode alphanumeric values to numeric values\n",
    "# specify 'result' column\n",
    "result_encoder = {'result': {'W': 1, 'T': 0, 'L': 0}}\n",
    "\n",
    "# encode result column using encoder\n",
    "nfl.replace(result_encoder, inplace=True)\n",
    "# check result value counts \n",
    "print(nfl.result.value_counts())"
   ]
  },
  {
   "cell_type": "markdown",
   "metadata": {},
   "source": [
    "### 4. Visualize the stats\n",
    "\n",
    "Next we take a look at the features, utilizing boxplots to vizualize their effect on the reponse."
   ]
  },
  {
   "cell_type": "code",
   "execution_count": 5,
   "metadata": {
    "scrolled": true
   },
   "outputs": [
    {
     "name": "stdout",
     "output_type": "stream",
     "text": [
      "PassY_offense\n"
     ]
    },
    {
     "data": {
      "image/png": "[encoded data removed]",
      "text/plain": [
       "<Figure size 432x288 with 1 Axes>"
      ]
     },
     "metadata": {
      "needs_background": "light"
     },
     "output_type": "display_data"
    },
    {
     "data": {
      "image/png": "[encoded data removed]",
      "text/plain": [
       "<Figure size 432x288 with 1 Axes>"
      ]
     },
     "metadata": {
      "needs_background": "light"
     },
     "output_type": "display_data"
    },
    {
     "data": {
      "image/png": "[encoded data removed]",
      "text/plain": [
       "<Figure size 432x288 with 1 Axes>"
      ]
     },
     "metadata": {
      "needs_background": "light"
     },
     "output_type": "display_data"
    },
    {
     "data": {
      "image/png": "[encoded data removed]",
      "text/plain": [
       "<Figure size 432x288 with 1 Axes>"
      ]
     },
     "metadata": {
      "needs_background": "light"
     },
     "output_type": "display_data"
    },
    {
     "data": {
      "image/png": "[encoded data removed]",
      "text/plain": [
       "<Figure size 432x288 with 1 Axes>"
      ]
     },
     "metadata": {
      "needs_background": "light"
     },
     "output_type": "display_data"
    },
    {
     "data": {
      "image/png": "[encoded data removed]",
      "text/plain": [
       "<Figure size 432x288 with 1 Axes>"
      ]
     },
     "metadata": {
      "needs_background": "light"
     },
     "output_type": "display_data"
    },
    {
     "data": {
      "image/png": "[encoded data removed]",
      "text/plain": [
       "<Figure size 432x288 with 1 Axes>"
      ]
     },
     "metadata": {
      "needs_background": "light"
     },
     "output_type": "display_data"
    },
    {
     "data": {
      "image/png": "[encoded data removed]",
      "text/plain": [
       "<Figure size 432x288 with 1 Axes>"
      ]
     },
     "metadata": {
      "needs_background": "light"
     },
     "output_type": "display_data"
    },
    {
     "data": {
      "image/png": "[encoded data removed]",
      "text/plain": [
       "<Figure size 432x288 with 1 Axes>"
      ]
     },
     "metadata": {
      "needs_background": "light"
     },
     "output_type": "display_data"
    },
    {
     "data": {
      "image/png": "[encoded data removed]",
      "text/plain": [
       "<Figure size 432x288 with 1 Axes>"
      ]
     },
     "metadata": {
      "needs_background": "light"
     },
     "output_type": "display_data"
    },
    {
     "name": "stdout",
     "output_type": "stream",
     "text": [
      "Index(['1stD_offense', 'TotYd_offense', 'PassY_offense', 'RushY_offense',\n",
      "       'TO_offense', '1stD_defense', 'TotYd_defense', 'PassY_defense',\n",
      "       'RushY_defense', 'TO_defense'],\n",
      "      dtype='object')\n"
     ]
    }
   ],
   "source": [
    "# change stat to view plot\n",
    "stat = \"PassY_offense\"\n",
    "print(stat)\n",
    "\n",
    "features = [i for i in nfl.columns[8:]]\n",
    "\n",
    "# box plot of stat\n",
    "# stat_plot = sns.boxplot(x='result', y=stat, data=nfl)\n",
    "# box plot of all featrues\n",
    "for stat in features:\n",
    "    stat_plot = sns.boxplot(x='result', y=stat, data=nfl)\n",
    "    stat_plot.set_xticklabels(['loss/tie','win'])\n",
    "    plt.show()\n",
    "\n",
    "# plot labels\n",
    "# stat_plot.set_xticklabels(['loss/tie','win'])\n",
    "plt.show()\n",
    "# feature names\n",
    "print(nfl.columns[8:])"
   ]
  },
  {
   "cell_type": "markdown",
   "metadata": {},
   "source": [
    "The trend we find when looking through all the stats is that winning teams have higher offensive stats on average (indicating more opportunities to score points) and lower defensive stats on average (indicating fewer opportunities for the opponent to score points). This is good news for our machine learning algorithm, as it should be straightforward for the algorithm to learn this pattern among the data."
   ]
  },
  {
   "cell_type": "markdown",
   "metadata": {},
   "source": [
    "## Data Preparation"
   ]
  },
  {
   "cell_type": "markdown",
   "metadata": {},
   "source": [
    "### 5. Standardize features\n",
    "\n",
    "Before creating a model, the data needs to be standardized so that a feature like Total Yards Gained doesn't overshadow Turnovers, which can be a crucial feature in determining winning games.\n",
    "\n",
    "The function `scaler.fit()` fits `features` to the the scaling function. Then `scaler.transform()` standardizes the game stats. The output is saved as `X` for easy refrence."
   ]
  },
  {
   "cell_type": "code",
   "execution_count": 6,
   "metadata": {},
   "outputs": [
    {
     "name": "stdout",
     "output_type": "stream",
     "text": [
      "     1stD_offense  TotYd_offense  PassY_offense  RushY_offense  TO_offense  \\\n",
      "0              22            416            280            136           1   \n",
      "1              21            474            371            103           2   \n",
      "2              23            407            316             91           1   \n",
      "3              27            465            249            216           0   \n",
      "4              20            304            210             94           1   \n",
      "..            ...            ...            ...            ...         ...   \n",
      "565            14            224            124            100           4   \n",
      "566            14            237            174             63           0   \n",
      "567            14            257            172             85           2   \n",
      "568            24            312            218             94           1   \n",
      "569            16            325             99            226           0   \n",
      "\n",
      "     1stD_defense  TotYd_defense  PassY_defense  RushY_defense  TO_defense  \n",
      "0              17            248            162             86           3  \n",
      "1              22            419            242            177           0  \n",
      "2              20            361            202            159           4  \n",
      "3              24            401            280            121           2  \n",
      "4              19            338            186            152           1  \n",
      "..            ...            ...            ...            ...         ...  \n",
      "565            19            323            201            122           2  \n",
      "566            23            519            281            238           2  \n",
      "567            28            497            389            108           0  \n",
      "568            18            330            212            118           0  \n",
      "569            10            177             83             94           3  \n",
      "\n",
      "[570 rows x 10 columns]\n"
     ]
    }
   ],
   "source": [
    "# select feature variables to be scaled\n",
    "predictors = nfl.iloc[:,8:]\n",
    "print(predictors)\n",
    "scaler = StandardScaler()\n",
    "\n",
    "# fit the transformer to the features\n",
    "scaler.fit(predictors)\n",
    "\n",
    "\n",
    "# transform and save as X\n",
    "X = scaler.transform(predictors)"
   ]
  },
  {
   "cell_type": "markdown",
   "metadata": {},
   "source": [
    "### 6. Save game outcomes\n",
    "\n",
    "Also separating the game outcome variable for easier reference. The game outcomes will be set to `y`."
   ]
  },
  {
   "cell_type": "code",
   "execution_count": 7,
   "metadata": {},
   "outputs": [],
   "source": [
    "# save result variable as y\n",
    "y = nfl['result']"
   ]
  },
  {
   "cell_type": "markdown",
   "metadata": {},
   "source": [
    "### 7. Split into training and testing data\n",
    "\n",
    "Need to randomly split the data into two groups:\n",
    "* **training data:** data to train the model to recognize winning games from patterns in the game stats.\n",
    "* **testing data:** data to check model's accuracy.\n",
    "\n",
    "The `train_test_split()` function will split up the features and result labels into training data and testing data, with `test_size` corresponding to the proportion of data reserved for testing. `test_size` is set to 0.5 and `random_state` to 42."
   ]
  },
  {
   "cell_type": "code",
   "execution_count": 8,
   "metadata": {},
   "outputs": [],
   "source": [
    "# create training data/ outcomes, test data/outcomes\n",
    "X_train, X_test, y_train, y_test = train_test_split(X, y, test_size=0.5, random_state=42)"
   ]
  },
  {
   "cell_type": "markdown",
   "metadata": {},
   "source": [
    "## Analysis"
   ]
  },
  {
   "cell_type": "markdown",
   "metadata": {},
   "source": [
    "### 8. Run the model\n",
    "\n",
    "In this step, we'll train the model to use the patterns of the offensive and defensive stats to predict the probability of a winning game."
   ]
  },
  {
   "cell_type": "code",
   "execution_count": 9,
   "metadata": {},
   "outputs": [
    {
     "data": {
      "text/plain": [
       "LogisticRegression()"
      ]
     },
     "execution_count": 9,
     "metadata": {},
     "output_type": "execute_result"
    }
   ],
   "source": [
    "# create the classifier\n",
    "log_model = LogisticRegression()\n",
    "# fit classifier to the training data\n",
    "log_model.fit(X_train, y_train)"
   ]
  },
  {
   "cell_type": "markdown",
   "metadata": {},
   "source": [
    "### 9. Check model accuracy\n",
    "\n",
    "With the classifier fitted (trained) to the training data, we can use the trained classifier to make predictions on the test data.\n",
    "\n",
    "Now we can check the percentage of outcomes that our model predicted correctly. The `accuracy_score()` function imported from the `sklearn` library compares the predicted test values `y_pred` to the true values `y_test`."
   ]
  },
  {
   "cell_type": "code",
   "execution_count": 10,
   "metadata": {},
   "outputs": [
    {
     "name": "stdout",
     "output_type": "stream",
     "text": [
      "[-1.04969195 -1.59960858 -1.23689322 -0.80285837  0.59128788  0.33577642\n",
      "  0.57942158  0.74017193 -0.17215071 -0.24919614]\n"
     ]
    },
    {
     "data": {
      "text/plain": [
       "0.8280701754385965"
      ]
     },
     "execution_count": 10,
     "metadata": {},
     "output_type": "execute_result"
    }
   ],
   "source": [
    "# predict with the classifier using the .predict() function\n",
    "print(X_test[0])\n",
    "y_pred = log_model.predict(X_test)\n",
    "\n",
    "# view the model accuracy with the accuracy_score() function\n",
    "accuracy_score(y_pred, y_test)"
   ]
  },
  {
   "cell_type": "markdown",
   "metadata": {},
   "source": [
    "We can see from the model performance that we can predict wins and losses with good accuracy. The model correctly predicted the game outcome for 82.8% of the games in the test set. The next steps might be to try to tune the model to optimize predictive performance."
   ]
  },
  {
   "cell_type": "markdown",
   "metadata": {},
   "source": [
    "### 10. Optimize by tuning hyperparameters\n",
    "\n",
    "We can improve model performance by closely studying how different parameters affect performance. In this next step I'll consider two \"hyperparameters\" for the `LogisticRegression` classifier: `penalty` and `C`.\n",
    "\n",
    "* `penalty` imposes a regularization penalty on the model for having too many variables. Our options generally are `l1` or \"Lasso Regression\" and `l2` \"Ridge Regression\" regularization.\n",
    "* `C` is the magnitude of the regularization\n",
    "\n",
    "The following code runs a logistic regression on the data and gets an accuracy score for each combination of `penalty` and `C`."
   ]
  },
  {
   "cell_type": "code",
   "execution_count": 11,
   "metadata": {},
   "outputs": [
    {
     "name": "stdout",
     "output_type": "stream",
     "text": [
      "Accuracy: 52.3% | penalty = l1, C = 0.01\n",
      "Accuracy: 84.6% | penalty = l1, C = 0.1\n",
      "Accuracy: 83.2% | penalty = l1, C = 1.0\n",
      "Accuracy: 82.5% | penalty = l1, C = 10.0\n",
      "Accuracy: 82.5% | penalty = l1, C = 1000.0\n",
      "Accuracy: 80.4% | penalty = l2, C = 0.01\n",
      "Accuracy: 83.5% | penalty = l2, C = 0.1\n",
      "Accuracy: 82.8% | penalty = l2, C = 1.0\n",
      "Accuracy: 82.5% | penalty = l2, C = 10.0\n",
      "Accuracy: 82.5% | penalty = l2, C = 1000.0\n"
     ]
    }
   ],
   "source": [
    "# create the list of both penalties\n",
    "penalties = ['l1', 'l2']\n",
    "# create a list of magnitudes\n",
    "C = [0.01, 0.1, 1.0, 10.0, 1000.0]\n",
    "\n",
    "for penalty in penalties:\n",
    "    for c in C:\n",
    "\n",
    "        # instantiate the classifier\n",
    "        # liblinear is used as a \"solver\"\n",
    "        # LogisticRegression() is weird it doesn't support l1 regression\n",
    "        # using liblinear fixes it\n",
    "        lrc_tuned = LogisticRegression(penalty=penalty, C=c, solver='liblinear')\n",
    "\n",
    "        # fit the classifier to the training data\n",
    "        lrc_tuned.fit(X_train, y_train)\n",
    "        \n",
    "        # predict with the classifier using the .predict() function\n",
    "        y_pred = lrc_tuned.predict(X_test)\n",
    "\n",
    "        # view the model accuracy with the accuracy_score() function\n",
    "        accuracy = accuracy_score(y_test, y_pred)\n",
    "        accuracy_rd = round(accuracy*100,1)\n",
    "        \n",
    "        # print accuracy for each combination of penalty and C\n",
    "        print(f'Accuracy: {accuracy_rd}% | penalty = {penalty}, C = {c}')"
   ]
  },
  {
   "cell_type": "markdown",
   "metadata": {},
   "source": [
    "A lot of these accuracy scores are very similar (or identical) to our original accuracy score. We end up gaining a small benefit by changing the hyperparameters to `penalty = l1` and `C = 0.1`. This brings us from 82.8% to 84.6% accuracy."
   ]
  },
  {
   "cell_type": "markdown",
   "metadata": {},
   "source": [
    "### 11. Optimize by changing test size\n",
    "\n",
    "In the cell above, we see that sweeping our parameters did not yield much improvement in prediction accuracy. Changing the test size of the train-test split could yield better results. A list of test sizes between 0 and 1 has been coded for you. Similar to the last task, at each test size the code performs a train-test split, fits the model, and computes an accuracy score.\n",
    "\n",
    "Run the code to see how test size affects accuracy. If you'd like, try changing the list of test sizes to get better accuracy."
   ]
  },
  {
   "cell_type": "code",
   "execution_count": 12,
   "metadata": {
    "scrolled": false
   },
   "outputs": [
    {
     "name": "stdout",
     "output_type": "stream",
     "text": [
      "Accuracy: 87.7% | test size = 0.2\n",
      "Accuracy: 87.5% | test size = 0.21\n",
      "Accuracy: 87.3% | test size = 0.22\n",
      "Accuracy: 87.9% | test size = 0.23\n",
      "Accuracy: 88.3% | test size = 0.24\n",
      "Accuracy: 88.8% | test size = 0.25\n",
      "Accuracy: 87.9% | test size = 0.26\n",
      "Accuracy: 88.3% | test size = 0.27\n",
      "Accuracy: 88.1% | test size = 0.28\n",
      "Accuracy: 88.6% | test size = 0.29\n",
      "Accuracy: 87.1% | test size = 0.3\n",
      "Accuracy: 87.6% | test size = 0.31\n",
      "Accuracy: 86.9% | test size = 0.32\n",
      "Accuracy: 87.3% | test size = 0.33\n",
      "Accuracy: 86.1% | test size = 0.34\n",
      "Accuracy: 86.0% | test size = 0.35\n"
     ]
    }
   ],
   "source": [
    "# optimal penalty and C\n",
    "penalty = 'l1'\n",
    "C = 0.1\n",
    "\n",
    "# create a list of test_sizes\n",
    "test_sizes = [val/100 for val in range(20,36)]\n",
    "\n",
    "for test_size in test_sizes:\n",
    "\n",
    "    # train-test split\n",
    "    X_train, X_test, y_train, y_test = train_test_split(X, y, test_size=test_size, random_state=42)\n",
    "\n",
    "    # instantiate the classifier\n",
    "    lrc_tts = LogisticRegression(penalty = penalty, C = C, solver='liblinear')\n",
    "\n",
    "    # fit the classifier to the training data\n",
    "    lrc_tts.fit(X_train, y_train)\n",
    "\n",
    "    # predict with the classifier using the .predict() function\n",
    "    y_pred = lrc_tts.predict(X_test)\n",
    "\n",
    "    # view the model accuracy with the accuracy_score() function\n",
    "    accuracy = accuracy_score(y_test, y_pred)\n",
    "    accuracy_rd = round(accuracy*100,1)\n",
    "    \n",
    "    # print accuracy for each combination of penalty and test size\n",
    "    print(f'Accuracy: {accuracy_rd}% | test size = {test_size}')"
   ]
  },
  {
   "cell_type": "markdown",
   "metadata": {},
   "source": [
    "As we can see from the output, we were able to improve accuracy slightly with a test size of `0.25`. In this step, we improved from 84.6% correct predictions to 88.8% correct predictions."
   ]
  },
  {
   "cell_type": "markdown",
   "metadata": {},
   "source": [
    "### 12. Save the optimized model\n",
    "\n",
    "Now that we know which parameters optimize our model, we can run and save the final model with our choices for `test_size`, `penalty`, and `C`. We continue using the same `random_state` of 42. "
   ]
  },
  {
   "cell_type": "code",
   "execution_count": 13,
   "metadata": {},
   "outputs": [
    {
     "data": {
      "text/plain": [
       "LogisticRegression(C=0.1, penalty='l1', solver='liblinear')"
      ]
     },
     "execution_count": 13,
     "metadata": {},
     "output_type": "execute_result"
    }
   ],
   "source": [
    "# set the test size and hyperparameters\n",
    "test_size = 0.25\n",
    "penalty = \"l1\"\n",
    "C = 0.1\n",
    "\n",
    "# train-test split\n",
    "X_train, X_test, y_train, y_test = train_test_split(X, y, test_size=0.24, random_state=42)\n",
    "\n",
    "# instantiate the classifier\n",
    "optimized_model = LogisticRegression(penalty = penalty, C = C, solver='liblinear')\n",
    "\n",
    "# fit the classifier to the training data\n",
    "optimized_model.fit(X_train, y_train)"
   ]
  },
  {
   "cell_type": "markdown",
   "metadata": {},
   "source": [
    "### 13. Examine feature importance\n",
    "\n",
    "Arguably the most important part, finding out which features determine a winning team. To do this we can the plot the coefficients (to vizualize how much they contribute to the outcome) \n",
    "We'll print and plot these scores to see which stat has the highest score."
   ]
  },
  {
   "cell_type": "code",
   "execution_count": 14,
   "metadata": {},
   "outputs": [
    {
     "name": "stdout",
     "output_type": "stream",
     "text": [
      "[ 0.05443596  0.59570588  0.          0.12254822 -0.756645   -0.198302\n",
      " -0.59921219  0.         -0.2078041   0.76348845]\n"
     ]
    },
    {
     "data": {
      "image/png": "[encoded data removed]",
      "text/plain": [
       "<Figure size 432x288 with 1 Axes>"
      ]
     },
     "metadata": {
      "needs_background": "light"
     },
     "output_type": "display_data"
    },
    {
     "name": "stdout",
     "output_type": "stream",
     "text": [
      "Predictor: 1stD_offense, Score: 0.05\n",
      "Predictor: TotYd_offense, Score: 0.6\n",
      "Predictor: PassY_offense, Score: 0.0\n",
      "Predictor: RushY_offense, Score: 0.12\n",
      "Predictor: TO_offense, Score: 0.76\n",
      "Predictor: 1stD_defense, Score: 0.2\n",
      "Predictor: TotYd_defense, Score: 0.6\n",
      "Predictor: PassY_defense, Score: 0.0\n",
      "Predictor: RushY_defense, Score: 0.21\n",
      "Predictor: TO_defense, Score: 0.76\n"
     ]
    },
    {
     "data": {
      "image/png": "[encoded data removed]",
      "text/plain": [
       "<Figure size 432x288 with 1 Axes>"
      ]
     },
     "metadata": {
      "needs_background": "light"
     },
     "output_type": "display_data"
    }
   ],
   "source": [
    "# get importance for each predictor\n",
    "# you can also do it without the absolute value to see\n",
    "# which ones impact the outcome negatively, but it looks kinda weird\n",
    "# not very easy to see the impact\n",
    "\n",
    "\n",
    "importance = abs(optimized_model.coef_[0])\n",
    "\n",
    "\n",
    "# visualize feature importance\n",
    "sns.barplot(x=importance, y=predictors.columns)\n",
    "plt.suptitle('Feature Importance for Logistic Regression')\n",
    "plt.xlabel('Score')\n",
    "plt.ylabel('Stat')\n",
    "plt.show()\n",
    "\n",
    "\n",
    "importance2 = optimized_model.coef_[0]\n",
    "\n",
    "\n",
    "sns.barplot(x=importance2, y=predictors.columns)\n",
    "\n",
    "# # add labels and titles\n",
    "# plt.suptitle('Feature Importance for Logistic Regression')\n",
    "# plt.xlabel('Score')\n",
    "# plt.ylabel('Stat')\n",
    "# plt.show()\n",
    "\n",
    "\n",
    "# summarize feature importance\n",
    "for i,v in enumerate(importance.round(2)):\n",
    "    print(f'Predictor: {predictors.columns[i]}, Score: {v}')"
   ]
  },
  {
   "cell_type": "markdown",
   "metadata": {},
   "source": [
    "## Conclusion/ Next Steps"
   ]
  },
  {
   "cell_type": "markdown",
   "metadata": {},
   "source": [
    "- I created a Machine Learning Model based on NFL team stats from 2021. With some hyperparameter tuning, the model was optimized to an accuracy of 88.8%. This means the model can classify NFL games with the 2021 teams with over 85% accuracy. The next steps for this project would be to create a predict function that takes two teams as input; the function would then average the team's stats for the season, and pit them against one another as in the original model to generate a prediction for an upcoming game."
   ]
  }
 ],
 "metadata": {
  "kernelspec": {
   "display_name": "Python 3",
   "language": "python",
   "name": "python3"
  },
  "language_info": {
   "codemirror_mode": {
    "name": "ipython",
    "version": 3
   },
   "file_extension": ".py",
   "mimetype": "text/x-python",
   "name": "python",
   "nbconvert_exporter": "python",
   "pygments_lexer": "ipython3",
   "version": "3.8.5"
  }
 },
 "nbformat": 4,
 "nbformat_minor": 5
}
